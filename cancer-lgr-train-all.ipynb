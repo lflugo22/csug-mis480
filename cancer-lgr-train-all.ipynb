{
 "cells": [
  {
   "cell_type": "code",
   "execution_count": null,
   "id": "c5686540-79bb-462f-b691-c5af455019c2",
   "metadata": {},
   "outputs": [],
   "source": [
    "%matplotlib inline"
   ]
  },
  {
   "cell_type": "code",
   "execution_count": null,
   "id": "25e0e4d2-724e-4a47-a893-73b4c32183a7",
   "metadata": {},
   "outputs": [],
   "source": [
    "import matplotlib.pyplot as plt\n",
    "import matplotlib.patches as patches\n",
    "import pandas as pd\n",
    "import numpy as np"
   ]
  },
  {
   "cell_type": "code",
   "execution_count": null,
   "id": "2cb72306-035e-4842-b1cc-a2eadb8bc5f0",
   "metadata": {},
   "outputs": [],
   "source": [
    "from matplotlib import style\n",
    "from sklearn import linear_model\n",
    "from sklearn.model_selection import train_test_split\n",
    "\n",
    "from ucimlrepo import fetch_ucirepo \n",
    "  \n",
    "# fetch dataset \n",
    "breast_cancer_wisconsin_diagnostic = fetch_ucirepo(id=17) \n",
    "  \n",
    "# data (as pandas dataframes) \n",
    "features = breast_cancer_wisconsin_diagnostic.data.features \n",
    "targets = breast_cancer_wisconsin_diagnostic.data.targets\n",
    "num_targets = targets['Diagnosis'].map({'M':0,'B':1})\n",
    "num_targets\n"
   ]
  },
  {
   "cell_type": "code",
   "execution_count": null,
   "id": "0ce3d16c",
   "metadata": {},
   "outputs": [],
   "source": [
    "# Split dataset into 70% training and 30% testing sets\n",
    "train_set, test_set, train_labels, test_labels = train_test_split(\n",
    "    features, num_targets, test_size = 0.3, random_state = 1, stratify = num_targets)\n",
    "\n"
   ]
  },
  {
   "cell_type": "code",
   "execution_count": null,
   "id": "af9a6dc5",
   "metadata": {},
   "outputs": [],
   "source": [
    "# Train the model using logistic regression\n",
    "x = train_set\n",
    "y = train_labels\n",
    "\n",
    "lgr = linear_model.LogisticRegression()\n",
    "lgr.fit(X = x, y = y)\n",
    "\n",
    "# Print model intercept and coefficients\n",
    "print('Model Intercept:', lgr.intercept_)\n",
    "print('Model Coefficients:', lgr.coef_)\n"
   ]
  },
  {
   "cell_type": "code",
   "execution_count": null,
   "id": "b0ab4e4e",
   "metadata": {},
   "outputs": [],
   "source": [
    "# Testing the model\n",
    "preds_prob = pd.DataFrame(lgr.predict_proba(X=test_set))\n",
    "preds_prob.columns = [\"Malignant\", \"Benign\"]\n",
    "\n",
    "preds = lgr.predict(X=test_set)\n",
    "preds_class = pd.DataFrame(preds)\n",
    "preds_class.columns = [\"Prediction\"]\n",
    "\n",
    "orig_result = pd.DataFrame(test_labels)\n",
    "orig_result.columns = [\"Original Result\"]\n",
    "\n",
    "result = pd.concat([preds_prob, preds_class, orig_result], axis=1)\n",
    "print(result.head())\n"
   ]
  },
  {
   "cell_type": "code",
   "execution_count": 25,
   "id": "939103da",
   "metadata": {},
   "outputs": [
    {
     "name": "stdout",
     "output_type": "stream",
     "text": [
      "--- Confusion Matrix ---\n",
      "Diagnosis   0    1\n",
      "row_0             \n",
      "0          58    5\n",
      "1           6  102\n"
     ]
    }
   ],
   "source": [
    "# Print the confusion matrix using panda crosstab function\n",
    "print('--- Confusion Matrix ---')\n",
    "print(pd.crosstab(preds, test_labels))\n",
    "print()\n"
   ]
  },
  {
   "cell_type": "code",
   "execution_count": 28,
   "id": "22ef2c38",
   "metadata": {},
   "outputs": [
    {
     "name": "stdout",
     "output_type": "stream",
     "text": [
      "--- Accuracy ---\n",
      "0.935672514619883\n",
      "\n",
      "--- Matrices ---\n",
      "              precision    recall  f1-score   support\n",
      "\n",
      "           0       0.92      0.91      0.91        64\n",
      "           1       0.94      0.95      0.95       107\n",
      "\n",
      "    accuracy                           0.94       171\n",
      "   macro avg       0.93      0.93      0.93       171\n",
      "weighted avg       0.94      0.94      0.94       171\n",
      "\n"
     ]
    }
   ],
   "source": [
    "# Print regression scores and classification report\n",
    "from sklearn import metrics\n",
    "print('--- Accuracy ---')\n",
    "print(lgr.score(X=test_set,\n",
    "                y=test_labels))\n",
    "\n",
    "print()\n",
    "print('--- Matrices ---')\n",
    "print(metrics.classification_report(y_true=test_labels,\n",
    "                                    y_pred=preds))"
   ]
  },
  {
   "cell_type": "code",
   "execution_count": 33,
   "id": "c43b8c45",
   "metadata": {},
   "outputs": [
    {
     "data": {
      "image/png": "[encoded data removed]",
      "text/plain": [
       "<Figure size 432x288 with 1 Axes>"
      ]
     },
     "metadata": {},
     "output_type": "display_data"
    }
   ],
   "source": [
    "# Plot ROC curve and get area under curve (AUC)\n",
    "from sklearn.metrics import roc_curve, auc\n",
    "\n",
    "probs = lgr.predict_proba(test_set)\n",
    "preds = probs[:,1]\n",
    "\n",
    "fpr, tpr, threshold = roc_curve(test_labels, preds)\n",
    "\n",
    "roc_auc = auc(fpr, tpr)\n",
    "\n",
    "style.use(\"ggplot\")\n",
    "plt.plot(fpr, tpr, 'b', label='AUC = %0.2f' % roc_auc)\n",
    "plt.plot([0,1],[0,1],'r--')\n",
    "plt.ylabel('True Positive Rate (TPR)')\n",
    "plt.xlabel('False Positive Rate (FPR)')\n",
    "plt.title('Receiver Operating Characteristic (ROC)')\n",
    "plt.legend(loc = 'lower right')\n",
    "plt.show()"
   ]
  }
 ],
 "metadata": {
  "kernelspec": {
   "display_name": "Python 3 (ipykernel)",
   "language": "python",
   "name": "python3"
  },
  "language_info": {
   "codemirror_mode": {
    "name": "ipython",
    "version": 3
   },
   "file_extension": ".py",
   "mimetype": "text/x-python",
   "name": "python",
   "nbconvert_exporter": "python",
   "pygments_lexer": "ipython3",
   "version": "3.9.12"
  }
 },
 "nbformat": 4,
 "nbformat_minor": 5
}
