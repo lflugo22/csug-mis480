{
 "cells": [
  {
   "cell_type": "code",
   "execution_count": 10,
   "id": "c5686540-79bb-462f-b691-c5af455019c2",
   "metadata": {},
   "outputs": [],
   "source": [
    "%matplotlib inline"
   ]
  },
  {
   "cell_type": "code",
   "execution_count": 11,
   "id": "25e0e4d2-724e-4a47-a893-73b4c32183a7",
   "metadata": {},
   "outputs": [],
   "source": [
    "import matplotlib.pyplot as plt\n",
    "import matplotlib.patches as patches\n",
    "import pandas as pd\n",
    "import numpy as np"
   ]
  },
  {
   "cell_type": "code",
   "execution_count": 12,
   "id": "2cb72306-035e-4842-b1cc-a2eadb8bc5f0",
   "metadata": {},
   "outputs": [],
   "source": [
    "from matplotlib import style\n",
    "from sklearn import linear_model\n",
    "from ucimlrepo import fetch_ucirepo \n",
    "  \n",
    "# fetch dataset \n",
    "breast_cancer_wisconsin_diagnostic = fetch_ucirepo(id=17) \n",
    "  \n",
    "# data (as pandas dataframes) \n",
    "X = breast_cancer_wisconsin_diagnostic.data.features \n",
    "y = breast_cancer_wisconsin_diagnostic.data.targets \n"
   ]
  },
  {
   "cell_type": "code",
   "execution_count": 13,
   "id": "546f2e42",
   "metadata": {},
   "outputs": [],
   "source": [
    "# assign radius1 feature and diagnosis target from datatset\n",
    "radius = X['radius1']\n",
    "diagnosis = y['Diagnosis'].map({\"M\":0, \"B\":1})\n",
    "#print(diagnosis)\n",
    "#print(radius)\n",
    "\n",
    "# assign colormap\n",
    "colorMap = {0: \"r\", 1: \"b\"}"
   ]
  },
  {
   "cell_type": "code",
   "execution_count": 14,
   "id": "78a23cc7",
   "metadata": {},
   "outputs": [
    {
     "name": "stdout",
     "output_type": "stream",
     "text": [
      "[15.120902]\n",
      "[[-1.02475609]]\n"
     ]
    }
   ],
   "source": [
    "# create logistic model\n",
    "lgr = linear_model.LogisticRegression()\n",
    "\n",
    "# train the model\n",
    "lgr.fit(X = np.array(radius).reshape(len(radius),1),\n",
    "        y = diagnosis)\n",
    "\n",
    "# print the intercept\n",
    "modelIntercept = lgr.intercept_\n",
    "print(modelIntercept)\n",
    "\n",
    "# print the coefficients\n",
    "modelCoefficients = lgr.coef_\n",
    "print(modelCoefficients)\n"
   ]
  },
  {
   "cell_type": "code",
   "execution_count": 15,
   "id": "e6e24d56",
   "metadata": {},
   "outputs": [],
   "source": [
    "# define sigmoid function\n",
    "def sigmoid(x):\n",
    "    return (1 / (1 +\n",
    "                 np.exp(-(modelIntercept[0] +\n",
    "                          modelCoefficients[0][0] * x)\n",
    "                        )                \n",
    "                )\n",
    "            )\n"
   ]
  },
  {
   "cell_type": "code",
   "execution_count": 16,
   "id": "ed0e9b14",
   "metadata": {},
   "outputs": [
    {
     "data": {
      "text/plain": [
       "<matplotlib.legend.Legend at 0x19b80773b50>"
      ]
     },
     "execution_count": 16,
     "metadata": {},
     "output_type": "execute_result"
    },
    {
     "data": {
      "image/png": "[encoded data removed]",
      "text/plain": [
       "<Figure size 432x288 with 1 Axes>"
      ]
     },
     "metadata": {},
     "output_type": "display_data"
    }
   ],
   "source": [
    "# Plot the sigmoid curve\n",
    "x1 = np.arange(0, 30, 0.01)\n",
    "y1 = [sigmoid(n) for n in x1]\n",
    "\n",
    "style.use(\"ggplot\")\n",
    "\n",
    "plt.scatter(radius, diagnosis,\n",
    "            facecolors='none',\n",
    "            edgecolors=diagnosis.map(colorMap)\n",
    "            )\n",
    "\n",
    "plt.plot(x1,y1)\n",
    "plt.title(\"Logistic Regression Prediction Using Radius\")\n",
    "plt.xlabel(\"Radius\")\n",
    "plt.ylabel(\"Probability\")\n",
    "\n",
    "# Plot threshold line (0.5)\n",
    "plt.plot([-2,32],[0.5,0.5],\n",
    "         color='grey',\n",
    "         ls='--')\n",
    "\n",
    "# Plot the legend\n",
    "r = patches.Patch(color='red', label='Malignant')\n",
    "b = patches.Patch(color='b', label='Benign')\n",
    "t = patches.Patch(color='grey', linestyle=\"--\", label=\"Threshold\")\n",
    "\n",
    "plt.legend(handles=[r,b,t], loc=1)\n",
    "plt.show()\n"
   ]
  },
  {
   "cell_type": "code",
   "execution_count": 17,
   "id": "66658abb",
   "metadata": {},
   "outputs": [
    {
     "name": "stdout",
     "output_type": "stream",
     "text": [
      "--- Model prediction when radius = 18\n",
      "Prediction Probabilities: [[0.96526677 0.03473323]]\n",
      "The tumor is probably malignant\n",
      "\n",
      "--- Model prediction when radius = 12\n",
      "Prediction Probabilities: [[0.05605 0.94395]]\n",
      "The tumor is probably benign\n",
      "\n"
     ]
    }
   ],
   "source": [
    "# Predictions when tumor radius (tr) is 18 and 12\n",
    "for r in [18,12]:\n",
    "    parg = np.array(r).reshape(-1,1)\n",
    "    print('--- Model prediction when radius =', r)\n",
    "    print('Prediction Probabilities:', lgr.predict_proba(parg))\n",
    "    print('The tumor is probably',\n",
    "          'malignant' if lgr.predict(parg)[0] == 0 else 'benign')\n",
    "    print('')"
   ]
  }
 ],
 "metadata": {
  "kernelspec": {
   "display_name": "Python 3 (ipykernel)",
   "language": "python",
   "name": "python3"
  },
  "language_info": {
   "codemirror_mode": {
    "name": "ipython",
    "version": 3
   },
   "file_extension": ".py",
   "mimetype": "text/x-python",
   "name": "python",
   "nbconvert_exporter": "python",
   "pygments_lexer": "ipython3",
   "version": "3.9.12"
  }
 },
 "nbformat": 4,
 "nbformat_minor": 5
}
